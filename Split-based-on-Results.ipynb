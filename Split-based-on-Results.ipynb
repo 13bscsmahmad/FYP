{
 "cells": [
  {
   "cell_type": "code",
   "execution_count": 5,
   "metadata": {
    "collapsed": true
   },
   "outputs": [],
   "source": [
    "'''\n",
    "This function merely reads both files.\n",
    "It counts the number of 0s in the first file,\n",
    "and 0s in the second file.\n",
    "'''\n",
    "\n",
    "def check():\n",
    "    file0 = open('0Results.csv', 'r')\n",
    "    file1 = open('1Results.csv', 'r')\n",
    "\n",
    "    count0s = 0\n",
    "    count1s = 0\n",
    "    \n",
    "    for line in file0:\n",
    "        count0s+=1\n",
    "        \n",
    "    for line in file1:\n",
    "        count1s+=1\n",
    "        \n",
    "    print \"0s: \" + str(count0s - 1) # -1 due to header row\n",
    "    print \"1s: \" + str(count1s - 1) # -1 due to header row\n",
    "    \n",
    "    "
   ]
  },
  {
   "cell_type": "code",
   "execution_count": 2,
   "metadata": {
    "collapsed": false
   },
   "outputs": [
    {
     "name": "stdout",
     "output_type": "stream",
     "text": [
      "0s: 1176869\n",
      "1s: 6880\n"
     ]
    }
   ],
   "source": [
    "'''\n",
    "This is the main function.\n",
    "It opens the file containing the labels in the 970th column,\n",
    "and separates them into 2 files - 0Results has all 0 labels, 1Results\n",
    "has all 1 labels.\n",
    "'''\n",
    "\n",
    "fo = open(\"train_numeric.csv\",'r')\n",
    "file0 = open('0Results.csv', 'w')\n",
    "file1 = open('1Results.csv', 'w')\n",
    "\n",
    "count = 0\n",
    "\n",
    "for line in fo:\n",
    "        \n",
    "    if (count == 0):\n",
    "        #append line in 0.txt\n",
    "        file0.write(line)\n",
    "        #append line in 1.txt\n",
    "        file1.write(line)\n",
    "        count += 1\n",
    "        continue\n",
    "        \n",
    "    content = line.split(',')\n",
    "    \n",
    "   \n",
    "    if (int(content[969].strip()) == (0)):\n",
    "        #append line in 0.txt\n",
    "\n",
    "        file0.write(line)\n",
    "    elif (int(content[969].strip()) == (1)):\n",
    "        #append line in 1.txt\n",
    "        \n",
    "        file1.write(line)\n",
    "    \n",
    "    count+=1\n",
    "\n",
    "file0.close()\n",
    "file1.close()"
   ]
  },
  {
   "cell_type": "code",
   "execution_count": 6,
   "metadata": {
    "collapsed": false
   },
   "outputs": [
    {
     "name": "stdout",
     "output_type": "stream",
     "text": [
      "0s: 1176868\n",
      "1s: 6879\n"
     ]
    }
   ],
   "source": [
    "check()"
   ]
  }
 ],
 "metadata": {
  "kernelspec": {
   "display_name": "Python 2",
   "language": "python",
   "name": "python2"
  },
  "language_info": {
   "codemirror_mode": {
    "name": "ipython",
    "version": 2
   },
   "file_extension": ".py",
   "mimetype": "text/x-python",
   "name": "python",
   "nbconvert_exporter": "python",
   "pygments_lexer": "ipython2",
   "version": "2.7.12"
  }
 },
 "nbformat": 4,
 "nbformat_minor": 0
}
