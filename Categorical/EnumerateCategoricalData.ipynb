{
 "cells": [
  {
   "cell_type": "code",
   "execution_count": 36,
   "metadata": {
    "collapsed": false
   },
   "outputs": [],
   "source": [
    "f = open(\"../Dataset/train_categorical.csv\", \"r\") # original categorical_train"
   ]
  },
  {
   "cell_type": "code",
   "execution_count": 37,
   "metadata": {
    "collapsed": false
   },
   "outputs": [],
   "source": [
    "possibleFeatureValues = set() # all unique features in raw data\n",
    "lineCount = 0\n",
    "\n",
    "first_line_skip = f.readline() # read 1st line (header row)\n",
    "lineCount +=1\n",
    "\n",
    "for line in f:\n",
    "   \n",
    "    elements = line.strip().split(',')\n",
    "    for element in elements[1:len(elements)]: # skip ID numbers\n",
    "        possibleFeatureValues.add(element)\n",
    "        \n",
    "    lineCount+=1\n",
    "    "
   ]
  },
  {
   "cell_type": "code",
   "execution_count": 38,
   "metadata": {
    "collapsed": false
   },
   "outputs": [
    {
     "name": "stdout",
     "output_type": "stream",
     "text": [
      "94\n"
     ]
    }
   ],
   "source": [
    "print len(possibleFeatureValues)"
   ]
  },
  {
   "cell_type": "code",
   "execution_count": 40,
   "metadata": {
    "collapsed": false
   },
   "outputs": [
    {
     "name": "stdout",
     "output_type": "stream",
     "text": [
      "set(['', 'T1152', 'T63616', 'T748928', 'T-21474825', 'T618624', 'T16777472', 'T-18748192', 'T134217728', 'T262144', 'T128', 'T145', 'T143', 'T524288', 'T-21474819', 'T492', 'T1372', 'T16384', 'T256', 'T2516', 'T-2147482688', 'T16777216', 'T16', 'T11141888', 'T786432', 'T1132', 'T-2147483647', 'T-2147483648', 'T98', 'T96', 'T97', 'T33554432', 'T268435456', 'T96112', 'T16777248', 'T-2147482176', 'T1310', 'T24', 'T41944', 'T-21474872', 'T-2147482944', 'T8651776', 'T16777232', 'T524544', 'T33554448', 'T83888', 'T32', 'T-2147482432', 'T18436', 'T6553', 'T12582912', 'T-2147482816', 'T36992', 'T512', 'T331648', 'T589824', 'T86752', 'T4718592', 'T16512', 'T113776', 'T48', 'T8912896', 'T48576', 'T32896', 'T16779428', 'T65536', 'T25165824', 'T91764', 'T917', 'T8389632', 'T178258', 'T26808', 'T786944', 'T52', 'T56', 'T16777557', 'T8', 'T9', 'T6', 'T7', 'T4', 'T5', 'T2', 'T3', 'T1', 'T514', 'T9174', 'T-2147483646', 'T678864', 'T33554944', 'T-2147481664', 'T8768', 'T64', 'T55424'])\n",
      "total lines:  1183748\n"
     ]
    }
   ],
   "source": [
    "print possibleFeatureValues\n",
    "print \"total lines: \", lineCount"
   ]
  },
  {
   "cell_type": "code",
   "execution_count": 78,
   "metadata": {
    "collapsed": true
   },
   "outputs": [],
   "source": [
    "f.close()"
   ]
  },
  {
   "cell_type": "code",
   "execution_count": 79,
   "metadata": {
    "collapsed": true
   },
   "outputs": [],
   "source": [
    "\"\"\"\n",
    "Replace each feature value with a number, starting with 0\n",
    "\"\"\"\n",
    "\n",
    "newFeature = 0\n",
    "\n"
   ]
  },
  {
   "cell_type": "code",
   "execution_count": 80,
   "metadata": {
    "collapsed": false
   },
   "outputs": [
    {
     "name": "stdout",
     "output_type": "stream",
     "text": [
      "94\n"
     ]
    }
   ],
   "source": [
    "\"\"\"\n",
    "Create dictionary and map each set element to a unique integer\n",
    "\"\"\"\n",
    "\n",
    "dictionary = {}\n",
    "for item in possibleFeatureValues:\n",
    "    dictionary[item] = str(newFeature)\n",
    "    newFeature += 1\n",
    "\n",
    "print len(dictionary)"
   ]
  },
  {
   "cell_type": "code",
   "execution_count": 81,
   "metadata": {
    "collapsed": true
   },
   "outputs": [],
   "source": [
    "f = open(\"../Dataset/train_categorical.csv\", \"r\") # original categorical_train"
   ]
  },
  {
   "cell_type": "code",
   "execution_count": 82,
   "metadata": {
    "collapsed": false
   },
   "outputs": [],
   "source": [
    "import csv\n",
    "with open('enumeratedCategorical.txt', 'w') as enumeratedCategorical:\n",
    "    \n",
    "    header = f.readline()\n",
    "    wr = csv.writer(enumeratedCategorical, lineterminator='\\n')\n",
    "    \n",
    "    count = 0\n",
    "    \"\"\"\n",
    "    Replace in place of each feature, the value for it in the dictionary\n",
    "    \"\"\"\n",
    "\n",
    "    for line in f:\n",
    "        fullRow = line.strip().split(\",\")\n",
    "        for element in range(1,len(fullRow)):\n",
    "            fullRow[element] = dictionary[fullRow[element]] # return the value of the element from the dict.\n",
    "        # have to re-write this row in the new file\n",
    "        wr.writerow(fullRow)\n",
    "        count += 1"
   ]
  },
  {
   "cell_type": "code",
   "execution_count": 86,
   "metadata": {
    "collapsed": false
   },
   "outputs": [
    {
     "name": "stdout",
     "output_type": "stream",
     "text": [
      "Done. Wrote 10 lines.\n"
     ]
    }
   ],
   "source": [
    "f.close()\n",
    "\n",
    "print \"Done. Wrote \" + str(count) + \" lines.\""
   ]
  },
  {
   "cell_type": "code",
   "execution_count": null,
   "metadata": {
    "collapsed": false
   },
   "outputs": [],
   "source": []
  },
  {
   "cell_type": "code",
   "execution_count": null,
   "metadata": {
    "collapsed": true
   },
   "outputs": [],
   "source": []
  }
 ],
 "metadata": {
  "kernelspec": {
   "display_name": "Python 2",
   "language": "python",
   "name": "python2"
  },
  "language_info": {
   "codemirror_mode": {
    "name": "ipython",
    "version": 2
   },
   "file_extension": ".py",
   "mimetype": "text/x-python",
   "name": "python",
   "nbconvert_exporter": "python",
   "pygments_lexer": "ipython2",
   "version": "2.7.13"
  }
 },
 "nbformat": 4,
 "nbformat_minor": 2
}
