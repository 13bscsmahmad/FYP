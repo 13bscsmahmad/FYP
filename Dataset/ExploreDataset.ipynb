{
 "cells": [
  {
   "cell_type": "code",
   "execution_count": 1,
   "metadata": {
    "collapsed": false
   },
   "outputs": [],
   "source": [
    "f = open(\"train_categorical.csv\")"
   ]
  },
  {
   "cell_type": "code",
   "execution_count": 2,
   "metadata": {
    "collapsed": false
   },
   "outputs": [],
   "source": [
    "data_in_cells = set()\n",
    "lineCount = 0\n",
    "\n",
    "first_line_skip = f.readline() # read 1st line (header row)\n",
    "lineCount +=1\n",
    "\n",
    "for line in f:\n",
    "    lineCount+=1\n",
    "    elements = line.strip().split(',')\n",
    "    for element in elements[1:len(elements)+1]: # skip ID numbers\n",
    "       data_in_cells.add(element)\n",
    "    "
   ]
  },
  {
   "cell_type": "code",
   "execution_count": 3,
   "metadata": {
    "collapsed": false
   },
   "outputs": [
    {
     "name": "stdout",
     "output_type": "stream",
     "text": [
      "set(['', 'T1152', 'T63616', 'T748928', 'T-21474825', 'T618624', 'T16777472', 'T-18748192', 'T134217728', 'T262144', 'T128', 'T145', 'T143', 'T524288', 'T-21474819', 'T492', 'T1372', 'T16384', 'T256', 'T2516', 'T-2147482688', 'T16777216', 'T16', 'T11141888', 'T786432', 'T1132', 'T-2147483647', 'T-2147483648', 'T98', 'T96', 'T97', 'T33554432', 'T268435456', 'T96112', 'T16777248', 'T-2147482176', 'T1310', 'T24', 'T41944', 'T-21474872', 'T-2147482944', 'T8651776', 'T16777232', 'T524544', 'T33554448', 'T83888', 'T32', 'T-2147482432', 'T18436', 'T6553', 'T12582912', 'T-2147482816', 'T36992', 'T512', 'T331648', 'T589824', 'T86752', 'T4718592', 'T16512', 'T113776', 'T48', 'T8912896', 'T48576', 'T32896', 'T16779428', 'T65536', 'T25165824', 'T91764', 'T917', 'T8389632', 'T178258', 'T26808', 'T786944', 'T52', 'T56', 'T16777557', 'T8', 'T9', 'T6', 'T7', 'T4', 'T5', 'T2', 'T3', 'T1', 'T514', 'T9174', 'T-2147483646', 'T678864', 'T33554944', 'T-2147481664', 'T8768', 'T64', 'T55424'])\n",
      "total lines:  1183748\n"
     ]
    }
   ],
   "source": [
    "print data_in_cells\n",
    "print \"total lines: \", lineCount"
   ]
  },
  {
   "cell_type": "code",
   "execution_count": 21,
   "metadata": {
    "collapsed": true
   },
   "outputs": [],
   "source": [
    "f.close()"
   ]
  },
  {
   "cell_type": "code",
   "execution_count": null,
   "metadata": {
    "collapsed": true
   },
   "outputs": [],
   "source": [
    "    "
   ]
  }
 ],
 "metadata": {
  "kernelspec": {
   "display_name": "Python 2",
   "language": "python",
   "name": "python2"
  },
  "language_info": {
   "codemirror_mode": {
    "name": "ipython",
    "version": 2
   },
   "file_extension": ".py",
   "mimetype": "text/x-python",
   "name": "python",
   "nbconvert_exporter": "python",
   "pygments_lexer": "ipython2",
   "version": "2.7.13"
  }
 },
 "nbformat": 4,
 "nbformat_minor": 2
}
