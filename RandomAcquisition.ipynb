{
 "cells": [
  {
   "cell_type": "code",
   "execution_count": 32,
   "metadata": {
    "collapsed": true
   },
   "outputs": [],
   "source": [
    "import random\n",
    "import numpy"
   ]
  },
  {
   "cell_type": "code",
   "execution_count": 99,
   "metadata": {
    "collapsed": false
   },
   "outputs": [],
   "source": [
    "'''\n",
    "Input: Filename\n",
    "\n",
    "This function merely reads .csv, counts the total # of lines (including header),\n",
    "the number of 0s, and the number of 1s (the labels, present in the 970th column)\n",
    "'''\n",
    "\n",
    "def check(fileName):\n",
    "        \n",
    "    totalCount = 0.0 # header read\n",
    "    total0s = 0.0\n",
    "    total1s = 0.0\n",
    "    \n",
    "    finalData = open(fileName, 'r')\n",
    "        \n",
    "    header = finalData.readline()\n",
    "    totalCount += 1 # header read\n",
    "    \n",
    "    \n",
    "    for line in finalData:\n",
    "        contents = line.split(',')\n",
    "    \n",
    "        if (contents[969].strip()) is '0':\n",
    "            total0s+=1\n",
    "        elif (contents[969].strip()) is '1':\n",
    "            total1s+=1\n",
    "        totalCount+=1\n",
    "    \n",
    "    \n",
    "    print(\"# of lines (including header): \" + str(totalCount))\n",
    "    print(\"# of 0s: \" + str(total0s) + \". %age of 0s: \" + str((total0s/(totalCount-1)) * 100)) # -1 to exclude header. Same for \n",
    "    print(\"# of 1s: \" + str(total1s) + \". %age of 1s: \" + str((total1s/(totalCount-1)) * 100))\n",
    "    \n",
    "    \n",
    "    "
   ]
  },
  {
   "cell_type": "code",
   "execution_count": 97,
   "metadata": {
    "collapsed": false
   },
   "outputs": [
    {
     "name": "stdout",
     "output_type": "stream",
     "text": [
      "%age of 0s selected: 68.76\n",
      "%age of 1s selected: 31.24\n"
     ]
    }
   ],
   "source": [
    "'''\n",
    "This is the main function. Change the three variables according to your needs.\n",
    "percentage0s is the %age of labels that should be 0 in the final file,\n",
    "percentage1s is the %age of labels that should be 1 in the final file,\n",
    "totalVals is the number of samples you need.\n",
    "\n",
    "The function uses numpy.random.choice() method to implement weighted probabilities.\n",
    "    e.g. to generate 0 70% of the time, and 1 30% of the time\n",
    "    \n",
    "\n",
    "While the function randomly selects which file to choose from, giving each file a weighted probability,\n",
    "it DOES NOT select the row within the file randomly. Rows are selected SEQUENTIALLY, by the use of 2 variables\n",
    "which act as file pointers, file0sPTR and file1sPTR.\n",
    "\n",
    "\n",
    "NOTE: The last line in the resultant file is empty, since the second last line contains a '\\n'.\n",
    "'''\n",
    "\n",
    "percentage0s = 70.0\n",
    "percentage1s = 30.0\n",
    "totalVals = 2500.0\n",
    "\n",
    "\n",
    "file0s = open('0Results.csv', 'r')\n",
    "file0sPTR = 1 # start from 1 because 0th line contains the header\n",
    "#file1s = open('1Results.csv', 'r')\n",
    "file1sPTR = 1 # start from 1 because 0th line contains the header\n",
    "\n",
    "finalFileName = 'finalData_' + str(totalVals) + '.csv'\n",
    "finalData = open(finalFileName, 'w')\n",
    "\n",
    "\n",
    "count0s = (percentage0s / 100) * totalVals\n",
    "count1s = (percentage1s / 100) * totalVals\n",
    "\n",
    "# Copy header from either file (we're copying from file0s)\n",
    "header = file0s.readline()\n",
    "finalData.write(header)\n",
    "file0s.close()\n",
    "\n",
    "x = 1.0 # loop control\n",
    "\n",
    "random0s = 0.0\n",
    "random1s = 0.0\n",
    "\n",
    "while (x <= totalVals):\n",
    "    \n",
    "    tossVal = numpy.random.choice(numpy.arange(0, 2), p=[percentage0s/100, percentage1s/100]) # generate either 0 (70% prob) or 1(30% prob) in random order\n",
    "    \n",
    "    if (tossVal == 0):\n",
    "        with open(\"0Results.csv\") as file0s:\n",
    "            for i, line in enumerate(file0s):\n",
    "                if (i == file0sPTR):\n",
    "                    # copy line\n",
    "                    finalData.write(line)\n",
    "                    file0sPTR+=1\n",
    "                    random0s += 1\n",
    "                    break\n",
    "                \n",
    "    elif(tossVal == 1):\n",
    "        \n",
    "        with open(\"1Results.csv\") as file1s:\n",
    "            for i, line in enumerate(file1s):\n",
    "                if (i == file1sPTR):\n",
    "                    # copy line\n",
    "                    finalData.write(line)\n",
    "                    file1sPTR+=1\n",
    "                    random1s +=1\n",
    "                    break               \n",
    "\n",
    "    \n",
    "    x+=1\n",
    "\n",
    "finalData.close()\n",
    "print \"%age of 0s selected: \" + str((random0s/totalVals)*100)\n",
    "print \"%age of 1s selected: \" + str((random1s/totalVals)*100)\n",
    "print \"File name: \" + finalFileName\n",
    "    \n",
    "\n",
    "    "
   ]
  },
  {
   "cell_type": "code",
   "execution_count": 100,
   "metadata": {
    "collapsed": false
   },
   "outputs": [
    {
     "name": "stdout",
     "output_type": "stream",
     "text": [
      "# of lines (including header): 2501.0\n",
      "# of 0s: 1719.0. %age of 0s: 68.76\n",
      "# of 1s: 781.0. %age of 1s: 31.24\n"
     ]
    }
   ],
   "source": [
    "check(finalFileName)"
   ]
  },
  {
   "cell_type": "code",
   "execution_count": null,
   "metadata": {
    "collapsed": false
   },
   "outputs": [],
   "source": []
  },
  {
   "cell_type": "code",
   "execution_count": null,
   "metadata": {
    "collapsed": false
   },
   "outputs": [],
   "source": []
  }
 ],
 "metadata": {
  "kernelspec": {
   "display_name": "Python 2",
   "language": "python",
   "name": "python2"
  },
  "language_info": {
   "codemirror_mode": {
    "name": "ipython",
    "version": 2
   },
   "file_extension": ".py",
   "mimetype": "text/x-python",
   "name": "python",
   "nbconvert_exporter": "python",
   "pygments_lexer": "ipython2",
   "version": "2.7.12"
  }
 },
 "nbformat": 4,
 "nbformat_minor": 0
}
